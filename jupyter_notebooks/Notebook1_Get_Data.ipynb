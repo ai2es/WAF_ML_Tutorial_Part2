{
 "cells": [
  {
   "cell_type": "markdown",
   "id": "4d0997f6-9302-4846-a77c-d81320e03a2f",
   "metadata": {},
   "source": [
    "# Notebook 01: Get Data\n",
    "\n",
    "### Primary Goal: Get the dataset needed for this tutorial \n",
    "\n",
    "#### Background\n",
    "\n",
    "Like Part 1 (if you haven't looked over Part 1, please do so before jumping into these notebooks), we will continue to use the [The Storm EVent ImagRy (SEVIR) dataset](https://proceedings.neurips.cc/paper/2020/file/fa78a16157fed00d7a80515818432169-Paper.pdf). Unfortunatley, the original SEVIR dataset is about 1 TB in size. Making things challenging because most will not have 1 TB free to play around with. Thus, to make a dataset that is more accessible we made ```sub-sevir```. \n",
    "\n",
    "```sub-sevir``` is a sub-sampled version of SEVIR. Specifcally, we re-sample all the images to have 48 x 48 pixels, which equates to about 8 km spatial resolution and only 1 hour of time (original has 4 hours). So in total each *scene* is the shape (12,48,48,4).\n",
    "\n",
    "To see the differences here are two youtube videos:\n",
    "\n",
    "\n",
    "1. [Original resolution](https://youtu.be/ntjNB0SAz1Y)\n",
    "2. [sub-sevir](https://youtu.be/UAEfD1p5uW8)\n",
    "\n",
    "While there is considerable differences in the resolution, there is still plenty of information content to do machine learning with. \n",
    "\n",
    "After the sub-sampling of SEVIR, the data size is now only 2 GB. Thus, **please make sure you have at least 2 GB of storage space avail**. before continuing here.\n",
    "\n",
    "#### Get Data\n",
    "\n",
    "The data is hosted on zenodo: [![DOI](https://zenodo.org/badge/DOI/10.5281/zenodo.7011372.svg)](https://doi.org/10.5281/zenodo.7011372). \n",
    "\n",
    "Zenodo is a free place to store files under 50 GB. What zenodo enables us to do is we can point something like wget right to it. \n",
    "\n",
    "If you dont want to use python to download the file, you can go to the above button and mannually download the file."
   ]
  },
  {
   "cell_type": "code",
   "execution_count": 8,
   "id": "a209e654-da2a-49e4-b96c-35e569829fdc",
   "metadata": {},
   "outputs": [
    {
     "name": "stdout",
     "output_type": "stream",
     "text": [
      "  1% [                                                ]   29433856 / 1974264123"
     ]
    },
    {
     "ename": "KeyboardInterrupt",
     "evalue": "",
     "output_type": "error",
     "traceback": [
      "\u001b[0;31m---------------------------------------------------------------------------\u001b[0m",
      "\u001b[0;31mKeyboardInterrupt\u001b[0m                         Traceback (most recent call last)",
      "Input \u001b[0;32mIn [8]\u001b[0m, in \u001b[0;36m<cell line: 5>\u001b[0;34m()\u001b[0m\n\u001b[1;32m      3\u001b[0m url \u001b[38;5;241m=\u001b[39m \u001b[38;5;124m'\u001b[39m\u001b[38;5;124mhttps://zenodo.org/record/7011372/files/sub-sevir.tar.gz?download=1\u001b[39m\u001b[38;5;124m'\u001b[39m\n\u001b[1;32m      4\u001b[0m \u001b[38;5;66;03m#fix the path here to where you want to put the file\u001b[39;00m\n\u001b[0;32m----> 5\u001b[0m filename \u001b[38;5;241m=\u001b[39m \u001b[43mwget\u001b[49m\u001b[38;5;241;43m.\u001b[39;49m\u001b[43mdownload\u001b[49m\u001b[43m(\u001b[49m\u001b[43murl\u001b[49m\u001b[43m,\u001b[49m\u001b[43mout\u001b[49m\u001b[38;5;241;43m=\u001b[39;49m\u001b[38;5;124;43m'\u001b[39;49m\u001b[38;5;124;43m/Users/randyjc2/Downloads/sub-sevir.tar.gz\u001b[39;49m\u001b[38;5;124;43m'\u001b[39;49m\u001b[43m)\u001b[49m\n",
      "File \u001b[0;32m~/miniconda3/envs/waf_tutorial_part2/lib/python3.10/site-packages/wget.py:526\u001b[0m, in \u001b[0;36mdownload\u001b[0;34m(url, out, bar)\u001b[0m\n\u001b[1;32m    524\u001b[0m \u001b[38;5;28;01melse\u001b[39;00m:\n\u001b[1;32m    525\u001b[0m     binurl \u001b[38;5;241m=\u001b[39m url\n\u001b[0;32m--> 526\u001b[0m (tmpfile, headers) \u001b[38;5;241m=\u001b[39m \u001b[43mulib\u001b[49m\u001b[38;5;241;43m.\u001b[39;49m\u001b[43murlretrieve\u001b[49m\u001b[43m(\u001b[49m\u001b[43mbinurl\u001b[49m\u001b[43m,\u001b[49m\u001b[43m \u001b[49m\u001b[43mtmpfile\u001b[49m\u001b[43m,\u001b[49m\u001b[43m \u001b[49m\u001b[43mcallback\u001b[49m\u001b[43m)\u001b[49m\n\u001b[1;32m    527\u001b[0m filename \u001b[38;5;241m=\u001b[39m detect_filename(url, out, headers)\n\u001b[1;32m    528\u001b[0m \u001b[38;5;28;01mif\u001b[39;00m outdir:\n",
      "File \u001b[0;32m~/miniconda3/envs/waf_tutorial_part2/lib/python3.10/urllib/request.py:270\u001b[0m, in \u001b[0;36murlretrieve\u001b[0;34m(url, filename, reporthook, data)\u001b[0m\n\u001b[1;32m    267\u001b[0m     reporthook(blocknum, bs, size)\n\u001b[1;32m    269\u001b[0m \u001b[38;5;28;01mwhile\u001b[39;00m \u001b[38;5;28;01mTrue\u001b[39;00m:\n\u001b[0;32m--> 270\u001b[0m     block \u001b[38;5;241m=\u001b[39m \u001b[43mfp\u001b[49m\u001b[38;5;241;43m.\u001b[39;49m\u001b[43mread\u001b[49m\u001b[43m(\u001b[49m\u001b[43mbs\u001b[49m\u001b[43m)\u001b[49m\n\u001b[1;32m    271\u001b[0m     \u001b[38;5;28;01mif\u001b[39;00m \u001b[38;5;129;01mnot\u001b[39;00m block:\n\u001b[1;32m    272\u001b[0m         \u001b[38;5;28;01mbreak\u001b[39;00m\n",
      "File \u001b[0;32m~/miniconda3/envs/waf_tutorial_part2/lib/python3.10/http/client.py:465\u001b[0m, in \u001b[0;36mHTTPResponse.read\u001b[0;34m(self, amt)\u001b[0m\n\u001b[1;32m    462\u001b[0m \u001b[38;5;28;01mif\u001b[39;00m \u001b[38;5;28mself\u001b[39m\u001b[38;5;241m.\u001b[39mlength \u001b[38;5;129;01mis\u001b[39;00m \u001b[38;5;129;01mnot\u001b[39;00m \u001b[38;5;28;01mNone\u001b[39;00m \u001b[38;5;129;01mand\u001b[39;00m amt \u001b[38;5;241m>\u001b[39m \u001b[38;5;28mself\u001b[39m\u001b[38;5;241m.\u001b[39mlength:\n\u001b[1;32m    463\u001b[0m     \u001b[38;5;66;03m# clip the read to the \"end of response\"\u001b[39;00m\n\u001b[1;32m    464\u001b[0m     amt \u001b[38;5;241m=\u001b[39m \u001b[38;5;28mself\u001b[39m\u001b[38;5;241m.\u001b[39mlength\n\u001b[0;32m--> 465\u001b[0m s \u001b[38;5;241m=\u001b[39m \u001b[38;5;28;43mself\u001b[39;49m\u001b[38;5;241;43m.\u001b[39;49m\u001b[43mfp\u001b[49m\u001b[38;5;241;43m.\u001b[39;49m\u001b[43mread\u001b[49m\u001b[43m(\u001b[49m\u001b[43mamt\u001b[49m\u001b[43m)\u001b[49m\n\u001b[1;32m    466\u001b[0m \u001b[38;5;28;01mif\u001b[39;00m \u001b[38;5;129;01mnot\u001b[39;00m s \u001b[38;5;129;01mand\u001b[39;00m amt:\n\u001b[1;32m    467\u001b[0m     \u001b[38;5;66;03m# Ideally, we would raise IncompleteRead if the content-length\u001b[39;00m\n\u001b[1;32m    468\u001b[0m     \u001b[38;5;66;03m# wasn't satisfied, but it might break compatibility.\u001b[39;00m\n\u001b[1;32m    469\u001b[0m     \u001b[38;5;28mself\u001b[39m\u001b[38;5;241m.\u001b[39m_close_conn()\n",
      "File \u001b[0;32m~/miniconda3/envs/waf_tutorial_part2/lib/python3.10/socket.py:705\u001b[0m, in \u001b[0;36mSocketIO.readinto\u001b[0;34m(self, b)\u001b[0m\n\u001b[1;32m    703\u001b[0m \u001b[38;5;28;01mwhile\u001b[39;00m \u001b[38;5;28;01mTrue\u001b[39;00m:\n\u001b[1;32m    704\u001b[0m     \u001b[38;5;28;01mtry\u001b[39;00m:\n\u001b[0;32m--> 705\u001b[0m         \u001b[38;5;28;01mreturn\u001b[39;00m \u001b[38;5;28;43mself\u001b[39;49m\u001b[38;5;241;43m.\u001b[39;49m\u001b[43m_sock\u001b[49m\u001b[38;5;241;43m.\u001b[39;49m\u001b[43mrecv_into\u001b[49m\u001b[43m(\u001b[49m\u001b[43mb\u001b[49m\u001b[43m)\u001b[49m\n\u001b[1;32m    706\u001b[0m     \u001b[38;5;28;01mexcept\u001b[39;00m timeout:\n\u001b[1;32m    707\u001b[0m         \u001b[38;5;28mself\u001b[39m\u001b[38;5;241m.\u001b[39m_timeout_occurred \u001b[38;5;241m=\u001b[39m \u001b[38;5;28;01mTrue\u001b[39;00m\n",
      "File \u001b[0;32m~/miniconda3/envs/waf_tutorial_part2/lib/python3.10/ssl.py:1273\u001b[0m, in \u001b[0;36mSSLSocket.recv_into\u001b[0;34m(self, buffer, nbytes, flags)\u001b[0m\n\u001b[1;32m   1269\u001b[0m     \u001b[38;5;28;01mif\u001b[39;00m flags \u001b[38;5;241m!=\u001b[39m \u001b[38;5;241m0\u001b[39m:\n\u001b[1;32m   1270\u001b[0m         \u001b[38;5;28;01mraise\u001b[39;00m \u001b[38;5;167;01mValueError\u001b[39;00m(\n\u001b[1;32m   1271\u001b[0m           \u001b[38;5;124m\"\u001b[39m\u001b[38;5;124mnon-zero flags not allowed in calls to recv_into() on \u001b[39m\u001b[38;5;132;01m%s\u001b[39;00m\u001b[38;5;124m\"\u001b[39m \u001b[38;5;241m%\u001b[39m\n\u001b[1;32m   1272\u001b[0m           \u001b[38;5;28mself\u001b[39m\u001b[38;5;241m.\u001b[39m\u001b[38;5;18m__class__\u001b[39m)\n\u001b[0;32m-> 1273\u001b[0m     \u001b[38;5;28;01mreturn\u001b[39;00m \u001b[38;5;28;43mself\u001b[39;49m\u001b[38;5;241;43m.\u001b[39;49m\u001b[43mread\u001b[49m\u001b[43m(\u001b[49m\u001b[43mnbytes\u001b[49m\u001b[43m,\u001b[49m\u001b[43m \u001b[49m\u001b[43mbuffer\u001b[49m\u001b[43m)\u001b[49m\n\u001b[1;32m   1274\u001b[0m \u001b[38;5;28;01melse\u001b[39;00m:\n\u001b[1;32m   1275\u001b[0m     \u001b[38;5;28;01mreturn\u001b[39;00m \u001b[38;5;28msuper\u001b[39m()\u001b[38;5;241m.\u001b[39mrecv_into(buffer, nbytes, flags)\n",
      "File \u001b[0;32m~/miniconda3/envs/waf_tutorial_part2/lib/python3.10/ssl.py:1129\u001b[0m, in \u001b[0;36mSSLSocket.read\u001b[0;34m(self, len, buffer)\u001b[0m\n\u001b[1;32m   1127\u001b[0m \u001b[38;5;28;01mtry\u001b[39;00m:\n\u001b[1;32m   1128\u001b[0m     \u001b[38;5;28;01mif\u001b[39;00m buffer \u001b[38;5;129;01mis\u001b[39;00m \u001b[38;5;129;01mnot\u001b[39;00m \u001b[38;5;28;01mNone\u001b[39;00m:\n\u001b[0;32m-> 1129\u001b[0m         \u001b[38;5;28;01mreturn\u001b[39;00m \u001b[38;5;28;43mself\u001b[39;49m\u001b[38;5;241;43m.\u001b[39;49m\u001b[43m_sslobj\u001b[49m\u001b[38;5;241;43m.\u001b[39;49m\u001b[43mread\u001b[49m\u001b[43m(\u001b[49m\u001b[38;5;28;43mlen\u001b[39;49m\u001b[43m,\u001b[49m\u001b[43m \u001b[49m\u001b[43mbuffer\u001b[49m\u001b[43m)\u001b[49m\n\u001b[1;32m   1130\u001b[0m     \u001b[38;5;28;01melse\u001b[39;00m:\n\u001b[1;32m   1131\u001b[0m         \u001b[38;5;28;01mreturn\u001b[39;00m \u001b[38;5;28mself\u001b[39m\u001b[38;5;241m.\u001b[39m_sslobj\u001b[38;5;241m.\u001b[39mread(\u001b[38;5;28mlen\u001b[39m)\n",
      "\u001b[0;31mKeyboardInterrupt\u001b[0m: "
     ]
    }
   ],
   "source": [
    "import wget \n",
    "\n",
    "url = 'https://zenodo.org/record/7011372/files/sub-sevir.tar.gz?download=1'\n",
    "\n",
    "#fix the path here to where you want to put the file\n",
    "filename = wget.download(url,out='../datasets/sub-sevir.tar.gz')"
   ]
  },
  {
   "cell_type": "markdown",
   "id": "64ddeaeb-b470-48d7-8c6e-f4b5c4ef5c71",
   "metadata": {},
   "source": [
    "#### Open Archive\n",
    "\n",
    "The file is tarballed. What this means is in order to make the data easy to share, we compressed it. To undo the compression:\n",
    "\n",
    "1. Open a terminal \n",
    "    a. on a microsoft computer open powershell (open search bar and type powershell) \n",
    "    b. on a mac/linux computer just use the terminal\n",
    "    \n",
    " \n",
    "2. Navigate to where the file is  \n",
    "    \n",
    "\n",
    "    ```cd path_to_dir``` \n",
    "\n",
    "3. untar file \n",
    "\n",
    "    ``` tar –xvzf sub-sevir.tar.gz ```\n",
    "    \n",
    "This should have unzipped the outer folder.\n",
    "\n",
    "The contents should look like the following: \n",
    "\n",
    "- README.md \n",
    "- sub-sevir-train.tar.gz\n",
    "- sub-sevir-val.tar.gz\n",
    "- sub-sevir-test.tar.gz \n",
    "\n",
    "I encourage you to go ahead and look over the README.md, in there this a bunch of meta-data for how the data were created and some explanations of things. It is just a text file, so go ahead and open it with your favorite text editor (e.g., notepad++ etc.)\n",
    "\n",
    "You probably noticed, ah more pesky .tar.gz files. We will need to decompress these too. Like before: \n",
    "\n",
    "\n",
    "1. Navigate into the sub-sevir dir \n",
    "    \n",
    "\n",
    "    ```cd sub-sevir``` \n",
    "\n",
    "3. untar training file \n",
    "\n",
    "    ``` tar –xvzf sub-sevir-train.tar.gz ``` \n",
    "    \n",
    "4. untar validation file \n",
    "\n",
    "    ``` tar –xvzf sub-sevir-val.tar.gz ``` \n",
    "    \n",
    "5. untar test file \n",
    "\n",
    "    ``` tar –xvzf sub-sevir-test.tar.gz ``` \n",
    "    \n",
    " \n",
    "Congrats! You have successfully set your self up with the dataset to play with some neural networks and machine learning. If you want to save disk space, you can go ahead and del the extra .tar.gz files. \n",
    "\n",
    "The next notebook will help you visualize and play with some of the data before we jump into the machine learning.\n"
   ]
  }
 ],
 "metadata": {
  "kernelspec": {
   "display_name": "waf_tutorial_part2",
   "language": "python",
   "name": "waf_tutorial_part2"
  },
  "language_info": {
   "codemirror_mode": {
    "name": "ipython",
    "version": 3
   },
   "file_extension": ".py",
   "mimetype": "text/x-python",
   "name": "python",
   "nbconvert_exporter": "python",
   "pygments_lexer": "ipython3",
   "version": "3.10.4"
  }
 },
 "nbformat": 4,
 "nbformat_minor": 5
}
